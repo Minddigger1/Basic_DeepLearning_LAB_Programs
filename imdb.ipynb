{
 "cells": [
  {
   "cell_type": "code",
   "execution_count": 18,
   "id": "cc0da80e",
   "metadata": {},
   "outputs": [
    {
     "name": "stdout",
     "output_type": "stream",
     "text": [
      "391/391 [==============================] - 134s 340ms/step - loss: 0.4384 - accuracy: 0.7884\n",
      "782/782 [==============================] - 24s 31ms/step - loss: 0.3322 - accuracy: 0.8574\n",
      "Test accuracy: 85.74%\n"
     ]
    }
   ],
   "source": [
    "import numpy as np\n",
    "import tensorflow as tf\n",
    "from tensorflow.keras.datasets import imdb\n",
    "from tensorflow.keras.preprocessing.sequence import pad_sequences\n",
    "from tensorflow.keras.models import Sequential\n",
    "from tensorflow.keras.layers import Embedding, LSTM, Dense\n",
    "\n",
    "(X_train, y_train), (X_test, y_test) = imdb.load_data(num_words=10000)\n",
    "X_train = pad_sequences(X_train, maxlen=200)\n",
    "X_test = pad_sequences(X_test, maxlen=200)\n",
    "\n",
    "model = Sequential([\n",
    "    Embedding(input_dim=10000, output_dim=128, input_length=200),\n",
    "    LSTM(128),\n",
    "    Dense(1, activation='sigmoid')\n",
    "    ])\n",
    "\n",
    "model.compile(loss='binary_crossentropy',optimizer='adam', metrics=['accuracy'])\n",
    "\n",
    "model.fit(X_train, y_train, epochs=1,batch_size=64)\n",
    "\n",
    "loss, accuracy = model.evaluate(X_test, y_test)\n",
    "print(f\"Test accuracy: {round(accuracy * 100, 2)}%\")\n",
    "\n",
    "# Reshape the sequence to match the batch size expected by the model\n"
   ]
  },
  {
   "cell_type": "code",
   "execution_count": 14,
   "id": "3412d99a",
   "metadata": {},
   "outputs": [
    {
     "name": "stdout",
     "output_type": "stream",
     "text": [
      "1/1 [==============================] - 0s 24ms/step\n"
     ]
    },
    {
     "data": {
      "text/plain": [
       "'Negative Review'"
      ]
     },
     "execution_count": 14,
     "metadata": {},
     "output_type": "execute_result"
    }
   ],
   "source": [
    "test_seq = np.reshape(X_test[21311], (1, -1))\n",
    "\n",
    "pred = model.predict(test_seq)\n",
    "'Positive Review' if int(pred[0]) == 1 else \"Negative Review\""
   ]
  },
  {
   "cell_type": "code",
   "execution_count": 14,
   "id": "45d06935",
   "metadata": {},
   "outputs": [
    {
     "data": {
      "text/plain": [
       "array([   2,    2,    5,   52,  272,    8,    2,  179,    6,  171,  372,\n",
       "         49,    7,  937,   29,    2,    2,    4,    2,   89, 9193,   18,\n",
       "         90,   15,  372,   26,  141, 9218,    2, 2373,   15,   36,   69,\n",
       "         57,    2,   11,    4,  551,   10,   10,    2, 1730, 1246,  385,\n",
       "        145,   39, 2571,    6,    2,   38, 3013,    8,   30, 1059, 1205,\n",
       "         56,   15,   29, 1098,  309,  422,   51,    6,  394, 3074,  138,\n",
       "        426,   29,   28,   43,  413,   35, 4532,   40,   32,    4,  409,\n",
       "         10,   10,    5,    2,  109, 1637,   23,  160,    2,   89,  373,\n",
       "          4,  192,   15,   29,   16,    6,  506,  309,  684, 5442,   18,\n",
       "          2,  476,   12,  186,   26,    2, 6511,   34, 1158,    2,   10,\n",
       "         10,   73,  279,  775,    7,   84, 1425,   14,  651,    7, 1515,\n",
       "         12,  434,  186,    8,   28,  825,    2,   11,   14, 1327,  795,\n",
       "        127,  316,   43,  818,   14,  538,   33,  222,  406, 4461, 1694,\n",
       "        476, 5897,   39, 1473,    2,   15,   68,    2,  281,    9, 5902,\n",
       "       5950,   14,   22,   47,   57,  141,    2,    5,   13,  169,   15,\n",
       "        184,    2,    2,    4, 4147,   15,  372,   26, 6046,    2, 2373,\n",
       "        159,  185, 7710,  445,    2,   42,   15,    6, 2571, 8542, 2168,\n",
       "          8, 1392, 6644,    9,   38, 7848,   15, 1720,    9,    6, 7513,\n",
       "       5450, 1235])"
      ]
     },
     "execution_count": 14,
     "metadata": {},
     "output_type": "execute_result"
    }
   ],
   "source": [
    "X_test[21311]"
   ]
  }
 ],
 "metadata": {
  "kernelspec": {
   "display_name": "Python 3 (ipykernel)",
   "language": "python",
   "name": "python3"
  },
  "language_info": {
   "codemirror_mode": {
    "name": "ipython",
    "version": 3
   },
   "file_extension": ".py",
   "mimetype": "text/x-python",
   "name": "python",
   "nbconvert_exporter": "python",
   "pygments_lexer": "ipython3",
   "version": "3.9.18"
  }
 },
 "nbformat": 4,
 "nbformat_minor": 5
}
