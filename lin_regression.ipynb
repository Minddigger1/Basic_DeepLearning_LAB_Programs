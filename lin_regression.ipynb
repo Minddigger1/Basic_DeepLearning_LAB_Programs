{
 "cells": [
  {
   "cell_type": "code",
   "execution_count": 22,
   "id": "852a2a70",
   "metadata": {},
   "outputs": [],
   "source": [
    "import pandas as pd\n",
    "import numpy as np\n",
    "from sklearn.model_selection import train_test_split\n",
    "from sklearn.linear_model import LinearRegression\n",
    "from sklearn.metrics import mean_squared_error\n",
    "import matplotlib.pyplot as plt\n",
    "df = pd.read_csv(\"hwdata.csv\")\n",
    "X = df.loc[:, 'height'].values\n",
    "y = df.loc[:, 'weight'].values\n",
    "X_train, X_test, y_train, y_test = train_test_split(X, y, test_size=0.3, random_state=123)\n",
    "X_train = X_train.reshape(-1,1)\n",
    "y_train = y_train.reshape(-1, 1)\n",
    "X_test = X_test.reshape(-1,1)\n",
    "y_test = y_test.reshape(-1,1)\n",
    "model = LinearRegression().fit(X_train, y_train)\n",
    "y_pred = model.predict(X_test)\n"
   ]
  },
  {
   "cell_type": "code",
   "execution_count": 20,
   "id": "54b1bcfa",
   "metadata": {},
   "outputs": [
    {
     "data": {
      "text/plain": [
       "array([[63.1709481 ],\n",
       "       [64.2034936 ],\n",
       "       [76.59403967],\n",
       "       [63.1709481 ],\n",
       "       [70.39876664],\n",
       "       [79.69167619],\n",
       "       [70.39876664],\n",
       "       [66.26858462],\n",
       "       [68.33367563],\n",
       "       [76.59403967],\n",
       "       [58.00822057],\n",
       "       [58.00822057],\n",
       "       [64.2034936 ],\n",
       "       [79.69167619],\n",
       "       [77.62658518],\n",
       "       [70.39876664],\n",
       "       [68.33367563],\n",
       "       [56.97567506],\n",
       "       [75.56149417],\n",
       "       [60.07331158],\n",
       "       [69.36622113],\n",
       "       [67.30113012],\n",
       "       [81.7567672 ],\n",
       "       [76.59403967],\n",
       "       [68.33367563],\n",
       "       [67.30113012]])"
      ]
     },
     "execution_count": 20,
     "metadata": {},
     "output_type": "execute_result"
    }
   ],
   "source": [
    "y_pred"
   ]
  },
  {
   "cell_type": "code",
   "execution_count": 23,
   "id": "e2af9be5",
   "metadata": {},
   "outputs": [
    {
     "name": "stdout",
     "output_type": "stream",
     "text": [
      "Mean Squared Error :  15.024\n"
     ]
    },
    {
     "data": {
      "image/png": "[encoded data removed]",
      "text/plain": [
       "<Figure size 432x288 with 1 Axes>"
      ]
     },
     "metadata": {
      "needs_background": "light"
     },
     "output_type": "display_data"
    }
   ],
   "source": [
    "mse = mean_squared_error(y_true=y_test, y_pred=y_pred)\n",
    "print(\"Mean Squared Error : \", round(mse, 3))\n",
    "plt.scatter(X, y, label=\"Original Data\", alpha=0.5)\n",
    "plt.plot(X_test, y_pred, color='red', linewidth=2, label=\"Regression Line\")\n",
    "plt.title(\"Linear Regression\")\n",
    "plt.xlabel(\"Height\")\n",
    "plt.ylabel(\"Weight\")\n",
    "plt.legend()\n",
    "plt.show()"
   ]
  }
 ],
 "metadata": {
  "kernelspec": {
   "display_name": "Python 3 (ipykernel)",
   "language": "python",
   "name": "python3"
  },
  "language_info": {
   "codemirror_mode": {
    "name": "ipython",
    "version": 3
   },
   "file_extension": ".py",
   "mimetype": "text/x-python",
   "name": "python",
   "nbconvert_exporter": "python",
   "pygments_lexer": "ipython3",
   "version": "3.9.18"
  }
 },
 "nbformat": 4,
 "nbformat_minor": 5
}
