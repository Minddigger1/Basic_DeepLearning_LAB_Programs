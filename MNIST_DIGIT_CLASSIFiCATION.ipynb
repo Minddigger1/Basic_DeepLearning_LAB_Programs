{
 "cells": [
  {
   "cell_type": "code",
   "execution_count": 8,
   "id": "32341670",
   "metadata": {},
   "outputs": [],
   "source": [
    "\n",
    "import tensorflow as tf\n",
    "from tensorflow.keras.datasets import mnist\n",
    "from tensorflow.keras.utils import to_categorical\n",
    "from tensorflow.keras import models, layers"
   ]
  },
  {
   "cell_type": "code",
   "execution_count": 3,
   "id": "2b81b0bf",
   "metadata": {},
   "outputs": [
    {
     "name": "stdout",
     "output_type": "stream",
     "text": [
      "Downloading data from https://storage.googleapis.com/tensorflow/tf-keras-datasets/mnist.npz\n",
      "11490434/11490434 [==============================] - 2s 0us/step\n"
     ]
    }
   ],
   "source": [
    "(train_images, train_labels), (test_images, test_labels) = mnist.load_data()\n"
   ]
  },
  {
   "cell_type": "code",
   "execution_count": 9,
   "id": "0090adfe",
   "metadata": {},
   "outputs": [],
   "source": [
    "train_images, test_images = train_images / 255.0, test_images / 255.0\n",
    "train_labels, test_labels = to_categorical(train_labels), to_categorical(test_labels)\n",
    "model = models.Sequential([\n",
    " layers.Conv2D(32, 3, activation='relu', input_shape=(28, 28, 1)),\n",
    " layers.MaxPooling2D(),\n",
    " layers.Conv2D(64, 3, activation='relu'),\n",
    " layers.MaxPooling2D(),\n",
    " layers.Conv2D(64, 3, activation='relu'),\n",
    " layers.Flatten(),\n",
    " layers.Dense(64, activation='relu'),\n",
    " layers.Dense(10, activation='softmax')\n",
    "])"
   ]
  },
  {
   "cell_type": "code",
   "execution_count": 6,
   "id": "d130fa9a",
   "metadata": {},
   "outputs": [
    {
     "name": "stdout",
     "output_type": "stream",
     "text": [
      "Epoch 1/5\n",
      "750/750 [==============================] - 23s 29ms/step - loss: 0.0765 - accuracy: 0.9763 - val_loss: 0.0489 - val_accuracy: 0.9861\n",
      "Epoch 2/5\n",
      "750/750 [==============================] - 21s 29ms/step - loss: 0.0436 - accuracy: 0.9866 - val_loss: 0.0469 - val_accuracy: 0.9868\n",
      "Epoch 3/5\n",
      "750/750 [==============================] - 20s 27ms/step - loss: 0.0325 - accuracy: 0.9894 - val_loss: 0.0421 - val_accuracy: 0.9885\n",
      "Epoch 4/5\n",
      "750/750 [==============================] - 20s 27ms/step - loss: 0.0254 - accuracy: 0.9920 - val_loss: 0.0428 - val_accuracy: 0.9873\n",
      "Epoch 5/5\n",
      "750/750 [==============================] - 20s 26ms/step - loss: 0.0214 - accuracy: 0.9933 - val_loss: 0.0442 - val_accuracy: 0.9876\n"
     ]
    },
    {
     "data": {
      "text/plain": [
       "<keras.callbacks.History at 0x22424e03af0>"
      ]
     },
     "execution_count": 6,
     "metadata": {},
     "output_type": "execute_result"
    }
   ],
   "source": [
    "model.compile(optimizer='adam', loss='categorical_crossentropy', metrics=['accuracy'])\n",
    "model.fit(train_images, train_labels, epochs=5, batch_size=64, validation_split=0.2)\n"
   ]
  },
  {
   "cell_type": "code",
   "execution_count": 7,
   "id": "5c1988b7",
   "metadata": {},
   "outputs": [
    {
     "name": "stdout",
     "output_type": "stream",
     "text": [
      "313/313 [==============================] - 1s 3ms/step - loss: 0.0325 - accuracy: 0.9902\n",
      "Test Loss : 0.0325\n",
      "Test Accuracy : 99.02%\n"
     ]
    }
   ],
   "source": [
    "test_loss, test_acc = model.evaluate(test_images, test_labels)\n",
    "print(f\"Test Loss : {round(test_loss, 4)}\\nTest Accuracy : {round(test_acc * 100, 4)}%\")\n"
   ]
  }
 ],
 "metadata": {
  "kernelspec": {
   "display_name": "Python 3 (ipykernel)",
   "language": "python",
   "name": "python3"
  },
  "language_info": {
   "codemirror_mode": {
    "name": "ipython",
    "version": 3
   },
   "file_extension": ".py",
   "mimetype": "text/x-python",
   "name": "python",
   "nbconvert_exporter": "python",
   "pygments_lexer": "ipython3",
   "version": "3.9.18"
  }
 },
 "nbformat": 4,
 "nbformat_minor": 5
}
